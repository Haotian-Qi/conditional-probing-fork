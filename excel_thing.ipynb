{
 "cells": [
  {
   "cell_type": "code",
   "execution_count": 11,
   "metadata": {},
   "outputs": [],
   "source": [
    "import numpy as np\n",
    "import pandas as pd\n",
    "import os\n",
    "\n",
    "\n",
    "def get_probe_accuracy(probe_task,model_name,layer_number):\n",
    "    file_path = 'reports/{}-{}-layer{}.yaml.results/dev.label_acc'.format(probe_task,model_name,layer_number) \n",
    "    if os.path.isfile(file_path):\n",
    "        with open(file_path, \"r\") as f:\n",
    "            return float(f.read().strip())\n",
    "    else:\n",
    "        print(\"Path Invalid\" + file_path)\n",
    "\n",
    "def get_probe_accuracy_seed(probe_task,model_name,layer_number, seed):\n",
    "    file_path = 'reports/{}-{}-layer{}_{}.yaml.results/dev.label_acc'.format(probe_task,model_name,layer_number,seed) \n",
    "    if os.path.isfile(file_path):\n",
    "        with open(file_path, \"r\") as f:\n",
    "            return float(f.read().strip())\n",
    "    else:\n",
    "        print(\"Path Invalid\" + file_path)\n",
    "\n",
    "def get_probe__contidional_v_ent(probe_task,model_name,layer_number):\n",
    "    two_layer_v_ent = 'reports/{}-{}-layer{}-0.yaml.results/dev.v_entropy'.format(probe_task,model,layer_number)\n",
    "    embedding_layer_v_ent = 'reports/{}-{}-layer0.yaml.results/dev.v_entropy'.format(probe_task,model_name)\n",
    "\n",
    "    if os.path.isfile(two_layer_v_ent):\n",
    "        with open(two_layer_v_ent, \"r\") as f:\n",
    "            two_layer =  float(f.read().strip())\n",
    "    else:\n",
    "        print(\"Path Invalid\" + two_layer_v_ent)\n",
    "\n",
    "    if os.path.isfile(embedding_layer_v_ent):\n",
    "        with open(embedding_layer_v_ent, \"r\") as f:\n",
    "            embedding =  float(f.read().strip())\n",
    "    else:\n",
    "        print(\"Path Invalid\" + embedding_layer_v_ent)\n",
    "    \n",
    "    return embedding - two_layer\n",
    "\n",
    "\n",
    "df = pd.DataFrame(columns=['Model','Layer','Seed','dep_rel (P)','named_entities (P)','ptb_pos (P)','upos (P)','word_sense (P)','sst(P)','dep_rel (IGP)','named_entities (IGP)','ptb_pos (IGP)','upos (IGP)','word_sense (IGP)','sst(IGP)'])\n",
    "model = \"bert768\"\n",
    "layer = 12\n",
    "\n",
    "probe_tasks=[\"dep_rel\",\"named_entities\",\"ptb_pos\",\"upos\",\"word_sense\",\"sst2\"]\n",
    "\n",
    "for i in range(1,layer+1):\n",
    "    row = []\n",
    "    row.append(model)\n",
    "    row.append(i)\n",
    "    row.append(\"\")\n",
    "    for probe_task in probe_tasks:\n",
    "        acc = get_probe_accuracy(probe_task,model,i)\n",
    "        row.append(acc)\n",
    "    for probe_task in probe_tasks:\n",
    "        v_ent = get_probe__contidional_v_ent(probe_task,model,i)\n",
    "        row.append(v_ent)\n",
    "    df.loc[len(df)] = row\n",
    "    for j in range(1,5):\n",
    "        row = []\n",
    "        row.append(model)\n",
    "        row.append(i)\n",
    "        row.append(\"\")\n",
    "        for probe_task in probe_tasks:\n",
    "            acc = get_probe_accuracy_seed(probe_task,model,i,j)\n",
    "            row.append(acc)\n",
    "        for probe_task in probe_tasks:\n",
    "            v_ent = \"\"\n",
    "            row.append(v_ent)\n",
    "        df.loc[len(df)] = row\n",
    "\n",
    "df.to_csv(\"test.csv\", float_format = \"%.10f\", index=False)\n"
   ]
  },
  {
   "cell_type": "code",
   "execution_count": null,
   "metadata": {},
   "outputs": [],
   "source": []
  }
 ],
 "metadata": {
  "kernelspec": {
   "display_name": "base",
   "language": "python",
   "name": "python3"
  },
  "language_info": {
   "codemirror_mode": {
    "name": "ipython",
    "version": 3
   },
   "file_extension": ".py",
   "mimetype": "text/x-python",
   "name": "python",
   "nbconvert_exporter": "python",
   "pygments_lexer": "ipython3",
   "version": "3.8.3"
  },
  "orig_nbformat": 4,
  "vscode": {
   "interpreter": {
    "hash": "b97b11a820675205aae8f1d7f2a3f22bbd3a2c30189f44042310baf5b4cd1987"
   }
  }
 },
 "nbformat": 4,
 "nbformat_minor": 2
}
