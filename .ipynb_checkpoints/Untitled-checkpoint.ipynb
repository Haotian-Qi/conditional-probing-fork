{
 "cells": [
  {
   "cell_type": "code",
   "execution_count": 3,
   "id": "04363091",
   "metadata": {},
   "outputs": [
    {
     "name": "stdout",
     "output_type": "stream",
     "text": [
      "Requirement already satisfied: glob2 in c:\\users\\ilya jeff\\anaconda3\\lib\\site-packages (0.7)\n",
      "Note: you may need to restart the kernel to use updated packages.\n"
     ]
    }
   ],
   "source": [
    "pip install glob2"
   ]
  },
  {
   "cell_type": "code",
   "execution_count": 5,
   "id": "44c5a974",
   "metadata": {},
   "outputs": [],
   "source": [
    "import seaborn as sns\n",
    "import glob\n",
    "import torch\n",
    "import matplotlib as mpl\n",
    "mpl.use('Agg')\n",
    "import matplotlib.pyplot as plt\n",
    "sns.set(style=\"whitegrid\")\n",
    "mpl.rcParams['agg.path.chunksize'] = 10000\n",
    "mpl.rcParams['axes.titlesize'] = 'xx-large'\n",
    "mpl.rcParams['axes.labelsize'] = 'xx-large'"
   ]
  },
  {
   "cell_type": "code",
   "execution_count": 13,
   "id": "93a1b410",
   "metadata": {},
   "outputs": [
    {
     "name": "stdout",
     "output_type": "stream",
     "text": [
      "tensor([0.0011, 0.0005, 0.0005, 0.0012, 0.0005])\n"
     ]
    }
   ],
   "source": [
    "a = torch.tensor([float(open('distilbert/report/layer{}.yaml.results/dev.v_entropy'.format(i)).read().strip()) for i in range(1,6)])\n",
    "b = torch.tensor([float(open('distilbert/report/layer{}.yaml.results/dev.label_acc'.format(i)).read().strip()) for i in range(1,6)])\n",
    "print(a)"
   ]
  },
  {
   "cell_type": "code",
   "execution_count": 38,
   "id": "d0186a84",
   "metadata": {},
   "outputs": [],
   "source": [
    "def plot_graph():\n",
    "    fig, ax = plt.subplots(figsize=(6,4.5))\n",
    "    ax.tick_params(axis='both', which='major', labelsize=15)\n",
    "    ax.tick_params(axis='both', which='minor', labelsize=15)\n",
    "    a = torch.tensor([float(open('distilbert/report/layer{}.yaml.results/dev.v_entropy'.format(i)).read().strip()) for i in range(1,6)])\n",
    "    #b = torch.tensor([float(open('distilbert/report/layer{}.yaml.results/dev.label_acc'.format(i)).read().strip()) for i in range(1,6)])\n",
    "    #print(a)\n",
    "    x_range = list(range(1,6))\n",
    "    plt.plot(x_range, a, label=r'entropy')\n",
    "    #plt.plot(x_range, b, label=r'accuracy')\n",
    "    plt.title('dep-rel DistilBERT')\n",
    "    plt.ylabel('Bits')\n",
    "    plt.xlabel('Model layer')\n",
    "    plt.legend()\n",
    "    plt.tight_layout()\n",
    "    plt.savefig('test.png', dpi=200)\n",
    "    plt.clf()"
   ]
  },
  {
   "cell_type": "code",
   "execution_count": 39,
   "id": "b21e8ba0",
   "metadata": {},
   "outputs": [],
   "source": [
    "plot_graph()"
   ]
  },
  {
   "cell_type": "code",
   "execution_count": null,
   "id": "33f5a72c",
   "metadata": {},
   "outputs": [],
   "source": []
  }
 ],
 "metadata": {
  "kernelspec": {
   "display_name": "Python 3 (ipykernel)",
   "language": "python",
   "name": "python3"
  },
  "language_info": {
   "codemirror_mode": {
    "name": "ipython",
    "version": 3
   },
   "file_extension": ".py",
   "mimetype": "text/x-python",
   "name": "python",
   "nbconvert_exporter": "python",
   "pygments_lexer": "ipython3",
   "version": "3.8.13"
  }
 },
 "nbformat": 4,
 "nbformat_minor": 5
}
