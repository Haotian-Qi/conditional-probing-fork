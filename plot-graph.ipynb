{
 "cells": [
  {
   "cell_type": "code",
   "execution_count": 3,
   "id": "04363091",
   "metadata": {},
   "outputs": [
    {
     "name": "stdout",
     "output_type": "stream",
     "text": [
      "Collecting torch\n",
      "  Downloading torch-1.13.1-cp39-cp39-win_amd64.whl (162.5 MB)\n",
      "Requirement already satisfied: typing-extensions in c:\\users\\ilya jeff\\appdata\\local\\programs\\python\\python39\\lib\\site-packages (from torch) (4.2.0)\n",
      "Installing collected packages: torch\n",
      "Successfully installed torch-1.13.1\n",
      "Note: you may need to restart the kernel to use updated packages.\n"
     ]
    },
    {
     "name": "stderr",
     "output_type": "stream",
     "text": [
      "  WARNING: The scripts convert-caffe2-to-onnx.exe, convert-onnx-to-caffe2.exe and torchrun.exe are installed in 'c:\\Users\\Ilya Jeff\\AppData\\Local\\Programs\\Python\\Python39\\Scripts' which is not on PATH.\n",
      "  Consider adding this directory to PATH or, if you prefer to suppress this warning, use --no-warn-script-location.\n",
      "WARNING: You are using pip version 20.2.3; however, version 23.0 is available.\n",
      "You should consider upgrading via the 'c:\\Users\\Ilya Jeff\\AppData\\Local\\Programs\\Python\\Python39\\python.exe -m pip install --upgrade pip' command.\n"
     ]
    }
   ],
   "source": [
    "pip install torch"
   ]
  },
  {
   "cell_type": "code",
   "execution_count": 32,
   "id": "44c5a974",
   "metadata": {},
   "outputs": [],
   "source": [
    "import seaborn as sns\n",
    "import glob\n",
    "import torch\n",
    "import os\n",
    "\n",
    "import matplotlib as mpl\n",
    "mpl.use('Agg')\n",
    "import matplotlib.pyplot as plt\n",
    "sns.set(style=\"whitegrid\")\n",
    "mpl.rcParams['agg.path.chunksize'] = 10000\n",
    "\n",
    "#from matplotlib import rc\n",
    "#rc('text', usetex=True)\n",
    "mpl.rcParams['axes.titlesize'] = 'xx-large'\n",
    "mpl.rcParams['axes.labelsize'] = 'xx-large'\n"
   ]
  },
  {
   "cell_type": "code",
   "execution_count": 31,
   "id": "033d4333",
   "metadata": {},
   "outputs": [],
   "source": [
    "rerun_rounds = ['round1', 'round2', 'round3']\n",
    "def get_avg_results(path_string):\n",
    "  \"\"\"\n",
    "  For experiments with multiple random training runs, collects all\n",
    "  training runs and averages their results\n",
    "  \"\"\"\n",
    "  result_list = []\n",
    "  for rerun_string in rerun_rounds:\n",
    "    completed_path = path_string.format(rerun_string)\n",
    "    if os.path.exists(completed_path):\n",
    "      result_list.append(float(open(completed_path).read()))\n",
    "  return sum(result_list)/len(result_list) if len(result_list) > 0 else -1.0\n",
    "  #print(result_list)\n",
    "  #return np.std(result_list) if len(result_list) > 0 else -1 #sum(result_list)/len(result_list) if len(result_list) > 0 else -1.0"
   ]
  },
  {
   "cell_type": "code",
   "execution_count": 33,
   "id": "93a1b410",
   "metadata": {},
   "outputs": [
    {
     "name": "stdout",
     "output_type": "stream",
     "text": [
      "tensor([1.6499, 1.7123, 1.7404, 1.7500, 1.7595, 1.7668])\n"
     ]
    }
   ],
   "source": [
    "#a = torch.tensor([get_avg_results('reports/dep_rel-6-768-en-distilbert-layer{}.yaml.results/dev.v_entropy'.format(i)) for i in range(1,7)])\n",
    "#b = torch.tensor([float(open('reports/dep_rel-6-768-en-distilbert-layer{}.yaml.results/dev.v_entropy'.format(i)).read().strip()) for i in range(1,7)])\n",
    "#c = get_avg_results('reports/layer0.yaml.results/dev.v_entropy')\n",
    "#print(a)\n",
    "#print(b)\n",
    "\n",
    "#for i in range(1,7):\n",
    "#   print(i)"
   ]
  },
  {
   "cell_type": "code",
   "execution_count": 51,
   "id": "50abab14",
   "metadata": {},
   "outputs": [],
   "source": [
    "def plot_layerwise_zero_baseline(task):\n",
    "    fig, ax = plt.subplots(figsize=(6,4.5))\n",
    "    ax.tick_params(axis='both', which='major', labelsize=15)\n",
    "    ax.tick_params(axis='both', which='minor', labelsize=15)\n",
    "    ax.set_xticks(list(range(1,7)))\n",
    "    \"\"\"Makes a plot comparing layerwise bits of info\"\"\"\n",
    "    task_768_singlelayer_ventropy = torch.tensor([get_avg_results('reports/{}-6-768-en-distilbert-layer{}.yaml.results/dev.v_entropy'.format(task,i)) for i in range(1,7)])\n",
    "    task_768_twolayer_ventropy = torch.tensor([get_avg_results('reports/{}-6-768-en-distilbert-layer{}-0.yaml.results/dev.v_entropy'.format(task,i)) for i in range(1,7)])\n",
    "    task_768_embedding_layer_ventropy = get_avg_results('reports/{}-6-768-en-distilbert-layer0.yaml.results/dev.v_entropy'.format(task))\n",
    "    print(task_768_singlelayer_ventropy)\n",
    "    print(task_768_twolayer_ventropy)\n",
    "    print(task_768_embedding_layer_ventropy)\n",
    "    x_range = list(range(1,7))\n",
    "    plt.plot(x_range, task_768_embedding_layer_ventropy-task_768_singlelayer_ventropy, label=r'baselined')\n",
    "    plt.plot(x_range, task_768_embedding_layer_ventropy-task_768_twolayer_ventropy, label=r'conditional')\n",
    "    plt.title('6-768-en-distilbert {}'.format(task), fontsize = 12)\n",
    "    plt.ylabel('Bits', fontsize = 12)\n",
    "    plt.xlabel('Model layer', fontsize = 12)\n",
    "    plt.legend()\n",
    "    plt.tight_layout()\n",
    "    plt.savefig('6-768-en-distilbert {}.png'.format(task), dpi=200)\n",
    "    plt.clf()"
   ]
  },
  {
   "cell_type": "code",
   "execution_count": 52,
   "id": "430bbd96",
   "metadata": {},
   "outputs": [],
   "source": [
    "def plot_accuracy(task):\n",
    "    fig, ax = plt.subplots(figsize=(6,4.5))\n",
    "    ax.tick_params(axis='both', which='major', labelsize=15)\n",
    "    ax.tick_params(axis='both', which='minor', labelsize=15)\n",
    "    ax.set_xticks(list(range(1,7)))\n",
    "    \"\"\"Makes a plot comparing layerwise bits of info\"\"\"\n",
    "    label_accuracy = torch.tensor([get_avg_results('reports/{}-6-768-en-distilbert-layer{}.yaml.results/dev.label_acc'.format(task,i)) for i in range(1,7)])\n",
    "    print(label_accuracy)\n",
    "    x_range = list(range(1,7))\n",
    "    plt.plot(x_range, label_accuracy)\n",
    "    plt.title('6-768-en-distilbert {} accuracy'.format(task), fontsize = 12)\n",
    "    plt.ylabel('Accuracy', fontsize = 12)\n",
    "    plt.xlabel('Model layer', fontsize = 12)\n",
    "    plt.tight_layout()\n",
    "    plt.savefig('6-768-en-distilbert {} accuracy.png'.format(task), dpi=200)\n",
    "    plt.clf()"
   ]
  },
  {
   "cell_type": "code",
   "execution_count": 53,
   "id": "b21e8ba0",
   "metadata": {},
   "outputs": [
    {
     "name": "stdout",
     "output_type": "stream",
     "text": [
      "tensor([1.6499, 1.7123, 1.7404, 1.7500, 1.7595, 1.7668])\n",
      "tensor([1.5143, 1.5517, 1.5526, 1.5625, 1.5648, 1.5689])\n",
      "1.8580824713655195\n",
      "tensor([0.6904, 0.7283, 0.7442, 0.7511, 0.7497, 0.7488])\n",
      "tensor([0.6118, 0.6188, 0.6206, 0.6178, 0.6175, 0.6130])\n",
      "0.6820613843214373\n",
      "tensor([0.9823, 1.0595, 1.1062, 1.1246, 1.1411, 1.1573])\n",
      "tensor([0.8315, 0.8702, 0.8759, 0.8683, 0.8775, 0.8710])\n",
      "1.0275900919958842\n",
      "tensor([0.8362, 0.8945, 0.9261, 0.9475, 0.9584, 0.9716])\n",
      "tensor([0.7201, 0.7389, 0.7455, 0.7467, 0.7502, 0.7502])\n",
      "0.8696018419484984\n",
      "tensor([1.4597, 1.5154, 1.5381, 1.5520, 1.5611, 1.5667])\n",
      "tensor([1.3427, 1.3471, 1.3441, 1.3446, 1.3447, 1.3472])\n",
      "1.3742971714895635\n"
     ]
    }
   ],
   "source": [
    "plot_layerwise_zero_baseline('dep_rel')\n",
    "plot_layerwise_zero_baseline('named_entities')\n",
    "plot_layerwise_zero_baseline('ptb_pos')\n",
    "plot_layerwise_zero_baseline('upos')\n",
    "plot_layerwise_zero_baseline('word_sense')\n"
   ]
  },
  {
   "cell_type": "code",
   "execution_count": 54,
   "id": "33f5a72c",
   "metadata": {},
   "outputs": [
    {
     "name": "stdout",
     "output_type": "stream",
     "text": [
      "tensor([0.6499, 0.6381, 0.6324, 0.6300, 0.6286, 0.6276])\n",
      "tensor([0.8902, 0.8854, 0.8822, 0.8814, 0.8816, 0.8811])\n",
      "tensor([0.7768, 0.7585, 0.7488, 0.7442, 0.7406, 0.7364])\n",
      "tensor([0.7859, 0.7695, 0.7634, 0.7584, 0.7555, 0.7529])\n",
      "tensor([0.6712, 0.6610, 0.6577, 0.6543, 0.6519, 0.6526])\n"
     ]
    }
   ],
   "source": [
    "plot_accuracy('dep_rel')\n",
    "plot_accuracy('named_entities')\n",
    "plot_accuracy('ptb_pos')\n",
    "plot_accuracy('upos')\n",
    "plot_accuracy('word_sense')\n"
   ]
  },
  {
   "cell_type": "code",
   "execution_count": null,
   "id": "7eb0a5f9",
   "metadata": {},
   "outputs": [],
   "source": []
  }
 ],
 "metadata": {
  "kernelspec": {
   "display_name": "Python 3",
   "language": "python",
   "name": "python3"
  },
  "language_info": {
   "codemirror_mode": {
    "name": "ipython",
    "version": 3
   },
   "file_extension": ".py",
   "mimetype": "text/x-python",
   "name": "python",
   "nbconvert_exporter": "python",
   "pygments_lexer": "ipython3",
   "version": "3.9.2"
  },
  "vscode": {
   "interpreter": {
    "hash": "bdcb088fcff89543e4432dbe4ebd8623f44d6acef8abb4374116cf95ee7b50fc"
   }
  }
 },
 "nbformat": 4,
 "nbformat_minor": 5
}
